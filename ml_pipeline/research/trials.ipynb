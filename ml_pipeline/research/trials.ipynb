{
 "cells": [
  {
   "cell_type": "code",
   "execution_count": null,
   "id": "0635f929",
   "metadata": {},
   "outputs": [],
   "source": [
    "\n",
    "import requests\n",
    "from bs4 import BeautifulSoup"
   ]
  },
  {
   "cell_type": "code",
   "execution_count": null,
   "id": "3ea42c54",
   "metadata": {},
   "outputs": [],
   "source": [
    "# Function to scrape Google search snippets\n",
    "# This function takes a search query and returns the first 5 snippets from the search results.\n",
    "\n",
    "def scrape_snippets(query):\n",
    "    search_url = f\"https://www.google.com/search?q={query}\"\n",
    "    headers = {\"User-Agent\": \"Mozilla/5.0\"}\n",
    "    html = requests.get(search_url, headers=headers).text\n",
    "    soup = BeautifulSoup(html, \"html.parser\")\n",
    "    snippets = [tag.get_text() for tag in soup.select(\"div.BNeawe\")]\n",
    "    return snippets[:5]\n"
   ]
  }
 ],
 "metadata": {
  "kernelspec": {
   "display_name": "smart-seo-assistant-ace",
   "language": "python",
   "name": "python3"
  },
  "language_info": {
   "name": "python",
   "version": "3.12.11"
  }
 },
 "nbformat": 4,
 "nbformat_minor": 5
}
